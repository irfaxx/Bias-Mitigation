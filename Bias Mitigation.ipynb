{
 "cells": [
  {
   "cell_type": "code",
   "execution_count": 1,
   "id": "a1a9f0ad",
   "metadata": {},
   "outputs": [
    {
     "name": "stderr",
     "output_type": "stream",
     "text": [
      "C:\\Users\\IRFAN\\anaconda3\\lib\\site-packages\\pandas\\core\\arrays\\masked.py:60: UserWarning: Pandas requires version '1.3.6' or newer of 'bottleneck' (version '1.3.5' currently installed).\n",
      "  from pandas.core import (\n",
      "C:\\Users\\IRFAN\\AppData\\Local\\Temp\\ipykernel_6148\\4080736814.py:1: DeprecationWarning: \n",
      "Pyarrow will become a required dependency of pandas in the next major release of pandas (pandas 3.0),\n",
      "(to allow more performant data types, such as the Arrow string type, and better interoperability with other libraries)\n",
      "but was not found to be installed on your system.\n",
      "If this would cause problems for you,\n",
      "please provide us feedback at https://github.com/pandas-dev/pandas/issues/54466\n",
      "        \n",
      "  import pandas as pd\n"
     ]
    }
   ],
   "source": [
    "import pandas as pd"
   ]
  },
  {
   "cell_type": "code",
   "execution_count": 2,
   "id": "cc6f409a",
   "metadata": {},
   "outputs": [],
   "source": [
    "import matplotlib.pyplot as plt\n",
    "from sklearn.model_selection import train_test_split\n",
    "import seaborn as sns\n",
    "from sklearn import metrics \n",
    "import os\n",
    "import numpy as np"
   ]
  },
  {
   "cell_type": "code",
   "execution_count": 3,
   "id": "6013ec4a",
   "metadata": {},
   "outputs": [],
   "source": [
    "df= pd.read_csv(\"creditworthiness.csv\")"
   ]
  },
  {
   "cell_type": "code",
   "execution_count": 4,
   "id": "975adcf0",
   "metadata": {},
   "outputs": [],
   "source": [
    "df_new = df.copy()"
   ]
  },
  {
   "cell_type": "code",
   "execution_count": 5,
   "id": "702b1014",
   "metadata": {},
   "outputs": [
    {
     "data": {
      "text/html": [
       "<div>\n",
       "<style scoped>\n",
       "    .dataframe tbody tr th:only-of-type {\n",
       "        vertical-align: middle;\n",
       "    }\n",
       "\n",
       "    .dataframe tbody tr th {\n",
       "        vertical-align: top;\n",
       "    }\n",
       "\n",
       "    .dataframe thead th {\n",
       "        text-align: right;\n",
       "    }\n",
       "</style>\n",
       "<table border=\"1\" class=\"dataframe\">\n",
       "  <thead>\n",
       "    <tr style=\"text-align: right;\">\n",
       "      <th></th>\n",
       "      <th>ID</th>\n",
       "      <th>CC_LIMIT_CAT</th>\n",
       "      <th>EDUCATION</th>\n",
       "      <th>MARITAL_STATUS</th>\n",
       "      <th>GENDER</th>\n",
       "      <th>AGE_GROUP</th>\n",
       "      <th>pay_status_1</th>\n",
       "      <th>pay_status_2</th>\n",
       "      <th>pay_status_3</th>\n",
       "      <th>pay_status_4</th>\n",
       "      <th>...</th>\n",
       "      <th>_tpm</th>\n",
       "      <th>_ppm</th>\n",
       "      <th>_RETAIL</th>\n",
       "      <th>_URBAN</th>\n",
       "      <th>_RURAL</th>\n",
       "      <th>_PREMIUM</th>\n",
       "      <th>_TREATMENT</th>\n",
       "      <th>_LTV</th>\n",
       "      <th>_CC_LIMIT</th>\n",
       "      <th>_risk_score</th>\n",
       "    </tr>\n",
       "  </thead>\n",
       "  <tbody>\n",
       "    <tr>\n",
       "      <th>0</th>\n",
       "      <td>1</td>\n",
       "      <td>0</td>\n",
       "      <td>2</td>\n",
       "      <td>2</td>\n",
       "      <td>2</td>\n",
       "      <td>0</td>\n",
       "      <td>2</td>\n",
       "      <td>2</td>\n",
       "      <td>-1</td>\n",
       "      <td>-1</td>\n",
       "      <td>...</td>\n",
       "      <td>-1</td>\n",
       "      <td>-1</td>\n",
       "      <td>-1</td>\n",
       "      <td>-1</td>\n",
       "      <td>-1</td>\n",
       "      <td>-1</td>\n",
       "      <td>-1</td>\n",
       "      <td>-1.0</td>\n",
       "      <td>-1</td>\n",
       "      <td>0.000000</td>\n",
       "    </tr>\n",
       "    <tr>\n",
       "      <th>1</th>\n",
       "      <td>2</td>\n",
       "      <td>3</td>\n",
       "      <td>2</td>\n",
       "      <td>1</td>\n",
       "      <td>2</td>\n",
       "      <td>1</td>\n",
       "      <td>-1</td>\n",
       "      <td>2</td>\n",
       "      <td>0</td>\n",
       "      <td>0</td>\n",
       "      <td>...</td>\n",
       "      <td>-1</td>\n",
       "      <td>-1</td>\n",
       "      <td>-1</td>\n",
       "      <td>-1</td>\n",
       "      <td>-1</td>\n",
       "      <td>-1</td>\n",
       "      <td>-1</td>\n",
       "      <td>-1.0</td>\n",
       "      <td>-1</td>\n",
       "      <td>0.028792</td>\n",
       "    </tr>\n",
       "    <tr>\n",
       "      <th>2</th>\n",
       "      <td>3</td>\n",
       "      <td>2</td>\n",
       "      <td>2</td>\n",
       "      <td>1</td>\n",
       "      <td>2</td>\n",
       "      <td>1</td>\n",
       "      <td>0</td>\n",
       "      <td>0</td>\n",
       "      <td>0</td>\n",
       "      <td>0</td>\n",
       "      <td>...</td>\n",
       "      <td>-1</td>\n",
       "      <td>-1</td>\n",
       "      <td>-1</td>\n",
       "      <td>-1</td>\n",
       "      <td>-1</td>\n",
       "      <td>-1</td>\n",
       "      <td>-1</td>\n",
       "      <td>-1.0</td>\n",
       "      <td>-1</td>\n",
       "      <td>0.166089</td>\n",
       "    </tr>\n",
       "    <tr>\n",
       "      <th>3</th>\n",
       "      <td>4</td>\n",
       "      <td>1</td>\n",
       "      <td>2</td>\n",
       "      <td>2</td>\n",
       "      <td>2</td>\n",
       "      <td>1</td>\n",
       "      <td>0</td>\n",
       "      <td>0</td>\n",
       "      <td>0</td>\n",
       "      <td>0</td>\n",
       "      <td>...</td>\n",
       "      <td>-1</td>\n",
       "      <td>-1</td>\n",
       "      <td>-1</td>\n",
       "      <td>-1</td>\n",
       "      <td>-1</td>\n",
       "      <td>-1</td>\n",
       "      <td>-1</td>\n",
       "      <td>-1.0</td>\n",
       "      <td>-1</td>\n",
       "      <td>0.579180</td>\n",
       "    </tr>\n",
       "    <tr>\n",
       "      <th>4</th>\n",
       "      <td>5</td>\n",
       "      <td>1</td>\n",
       "      <td>2</td>\n",
       "      <td>2</td>\n",
       "      <td>1</td>\n",
       "      <td>0</td>\n",
       "      <td>-1</td>\n",
       "      <td>0</td>\n",
       "      <td>-1</td>\n",
       "      <td>0</td>\n",
       "      <td>...</td>\n",
       "      <td>-1</td>\n",
       "      <td>-1</td>\n",
       "      <td>-1</td>\n",
       "      <td>-1</td>\n",
       "      <td>-1</td>\n",
       "      <td>-1</td>\n",
       "      <td>-1</td>\n",
       "      <td>-1.0</td>\n",
       "      <td>-1</td>\n",
       "      <td>0.382920</td>\n",
       "    </tr>\n",
       "    <tr>\n",
       "      <th>5</th>\n",
       "      <td>6</td>\n",
       "      <td>1</td>\n",
       "      <td>3</td>\n",
       "      <td>1</td>\n",
       "      <td>1</td>\n",
       "      <td>1</td>\n",
       "      <td>0</td>\n",
       "      <td>0</td>\n",
       "      <td>0</td>\n",
       "      <td>0</td>\n",
       "      <td>...</td>\n",
       "      <td>-1</td>\n",
       "      <td>-1</td>\n",
       "      <td>-1</td>\n",
       "      <td>-1</td>\n",
       "      <td>-1</td>\n",
       "      <td>-1</td>\n",
       "      <td>-1</td>\n",
       "      <td>-1.0</td>\n",
       "      <td>-1</td>\n",
       "      <td>0.392380</td>\n",
       "    </tr>\n",
       "    <tr>\n",
       "      <th>6</th>\n",
       "      <td>7</td>\n",
       "      <td>7</td>\n",
       "      <td>3</td>\n",
       "      <td>1</td>\n",
       "      <td>1</td>\n",
       "      <td>1</td>\n",
       "      <td>0</td>\n",
       "      <td>0</td>\n",
       "      <td>0</td>\n",
       "      <td>0</td>\n",
       "      <td>...</td>\n",
       "      <td>-1</td>\n",
       "      <td>-1</td>\n",
       "      <td>-1</td>\n",
       "      <td>-1</td>\n",
       "      <td>-1</td>\n",
       "      <td>-1</td>\n",
       "      <td>-1</td>\n",
       "      <td>-1.0</td>\n",
       "      <td>-1</td>\n",
       "      <td>0.966006</td>\n",
       "    </tr>\n",
       "    <tr>\n",
       "      <th>7</th>\n",
       "      <td>8</td>\n",
       "      <td>3</td>\n",
       "      <td>2</td>\n",
       "      <td>1</td>\n",
       "      <td>2</td>\n",
       "      <td>0</td>\n",
       "      <td>0</td>\n",
       "      <td>-1</td>\n",
       "      <td>-1</td>\n",
       "      <td>0</td>\n",
       "      <td>...</td>\n",
       "      <td>-1</td>\n",
       "      <td>-1</td>\n",
       "      <td>-1</td>\n",
       "      <td>-1</td>\n",
       "      <td>-1</td>\n",
       "      <td>-1</td>\n",
       "      <td>-1</td>\n",
       "      <td>-1.0</td>\n",
       "      <td>-1</td>\n",
       "      <td>-0.001590</td>\n",
       "    </tr>\n",
       "    <tr>\n",
       "      <th>8</th>\n",
       "      <td>9</td>\n",
       "      <td>3</td>\n",
       "      <td>1</td>\n",
       "      <td>2</td>\n",
       "      <td>2</td>\n",
       "      <td>1</td>\n",
       "      <td>0</td>\n",
       "      <td>0</td>\n",
       "      <td>2</td>\n",
       "      <td>0</td>\n",
       "      <td>...</td>\n",
       "      <td>-1</td>\n",
       "      <td>-1</td>\n",
       "      <td>-1</td>\n",
       "      <td>-1</td>\n",
       "      <td>-1</td>\n",
       "      <td>-1</td>\n",
       "      <td>-1</td>\n",
       "      <td>-1.0</td>\n",
       "      <td>-1</td>\n",
       "      <td>0.084236</td>\n",
       "    </tr>\n",
       "    <tr>\n",
       "      <th>9</th>\n",
       "      <td>10</td>\n",
       "      <td>0</td>\n",
       "      <td>1</td>\n",
       "      <td>1</td>\n",
       "      <td>1</td>\n",
       "      <td>1</td>\n",
       "      <td>-2</td>\n",
       "      <td>-2</td>\n",
       "      <td>-2</td>\n",
       "      <td>-2</td>\n",
       "      <td>...</td>\n",
       "      <td>-1</td>\n",
       "      <td>-1</td>\n",
       "      <td>-1</td>\n",
       "      <td>-1</td>\n",
       "      <td>-1</td>\n",
       "      <td>-1</td>\n",
       "      <td>-1</td>\n",
       "      <td>-1.0</td>\n",
       "      <td>-1</td>\n",
       "      <td>0.650350</td>\n",
       "    </tr>\n",
       "  </tbody>\n",
       "</table>\n",
       "<p>10 rows × 32 columns</p>\n",
       "</div>"
      ],
      "text/plain": [
       "   ID  CC_LIMIT_CAT  EDUCATION  MARITAL_STATUS  GENDER  AGE_GROUP  \\\n",
       "0   1             0          2               2       2          0   \n",
       "1   2             3          2               1       2          1   \n",
       "2   3             2          2               1       2          1   \n",
       "3   4             1          2               2       2          1   \n",
       "4   5             1          2               2       1          0   \n",
       "5   6             1          3               1       1          1   \n",
       "6   7             7          3               1       1          1   \n",
       "7   8             3          2               1       2          0   \n",
       "8   9             3          1               2       2          1   \n",
       "9  10             0          1               1       1          1   \n",
       "\n",
       "   pay_status_1  pay_status_2  pay_status_3  pay_status_4  ...  _tpm  _ppm  \\\n",
       "0             2             2            -1            -1  ...    -1    -1   \n",
       "1            -1             2             0             0  ...    -1    -1   \n",
       "2             0             0             0             0  ...    -1    -1   \n",
       "3             0             0             0             0  ...    -1    -1   \n",
       "4            -1             0            -1             0  ...    -1    -1   \n",
       "5             0             0             0             0  ...    -1    -1   \n",
       "6             0             0             0             0  ...    -1    -1   \n",
       "7             0            -1            -1             0  ...    -1    -1   \n",
       "8             0             0             2             0  ...    -1    -1   \n",
       "9            -2            -2            -2            -2  ...    -1    -1   \n",
       "\n",
       "   _RETAIL  _URBAN  _RURAL  _PREMIUM  _TREATMENT  _LTV  _CC_LIMIT  _risk_score  \n",
       "0       -1      -1      -1        -1          -1  -1.0         -1     0.000000  \n",
       "1       -1      -1      -1        -1          -1  -1.0         -1     0.028792  \n",
       "2       -1      -1      -1        -1          -1  -1.0         -1     0.166089  \n",
       "3       -1      -1      -1        -1          -1  -1.0         -1     0.579180  \n",
       "4       -1      -1      -1        -1          -1  -1.0         -1     0.382920  \n",
       "5       -1      -1      -1        -1          -1  -1.0         -1     0.392380  \n",
       "6       -1      -1      -1        -1          -1  -1.0         -1     0.966006  \n",
       "7       -1      -1      -1        -1          -1  -1.0         -1    -0.001590  \n",
       "8       -1      -1      -1        -1          -1  -1.0         -1     0.084236  \n",
       "9       -1      -1      -1        -1          -1  -1.0         -1     0.650350  \n",
       "\n",
       "[10 rows x 32 columns]"
      ]
     },
     "execution_count": 5,
     "metadata": {},
     "output_type": "execute_result"
    }
   ],
   "source": [
    "df_new.head(10)"
   ]
  },
  {
   "cell_type": "code",
   "execution_count": 6,
   "id": "88d88de4",
   "metadata": {},
   "outputs": [
    {
     "name": "stdout",
     "output_type": "stream",
     "text": [
      "<class 'pandas.core.frame.DataFrame'>\n",
      "RangeIndex: 30000 entries, 0 to 29999\n",
      "Data columns (total 32 columns):\n",
      " #   Column            Non-Null Count  Dtype  \n",
      "---  ------            --------------  -----  \n",
      " 0   ID                30000 non-null  int64  \n",
      " 1   CC_LIMIT_CAT      30000 non-null  int64  \n",
      " 2   EDUCATION         30000 non-null  int64  \n",
      " 3   MARITAL_STATUS    30000 non-null  int64  \n",
      " 4   GENDER            30000 non-null  int64  \n",
      " 5   AGE_GROUP         30000 non-null  int64  \n",
      " 6   pay_status_1      30000 non-null  int64  \n",
      " 7   pay_status_2      30000 non-null  int64  \n",
      " 8   pay_status_3      30000 non-null  int64  \n",
      " 9   pay_status_4      30000 non-null  int64  \n",
      " 10  pay_status_5      30000 non-null  int64  \n",
      " 11  pay_status_6      30000 non-null  int64  \n",
      " 12  paid_pct_1        30000 non-null  float64\n",
      " 13  paid_pct_2        30000 non-null  float64\n",
      " 14  paid_pct_3        30000 non-null  float64\n",
      " 15  paid_pct_4        30000 non-null  float64\n",
      " 16  paid_pct_5        30000 non-null  float64\n",
      " 17  paid_pct_6        30000 non-null  float64\n",
      " 18  bill1_over_limit  30000 non-null  float64\n",
      " 19  IS_DEFAULT        30000 non-null  int64  \n",
      " 20  _AGE              30000 non-null  int64  \n",
      " 21  _spend            30000 non-null  int64  \n",
      " 22  _tpm              30000 non-null  int64  \n",
      " 23  _ppm              30000 non-null  int64  \n",
      " 24  _RETAIL           30000 non-null  int64  \n",
      " 25  _URBAN            30000 non-null  int64  \n",
      " 26  _RURAL            30000 non-null  int64  \n",
      " 27  _PREMIUM          30000 non-null  int64  \n",
      " 28  _TREATMENT        30000 non-null  int64  \n",
      " 29  _LTV              30000 non-null  float64\n",
      " 30  _CC_LIMIT         30000 non-null  int64  \n",
      " 31  _risk_score       30000 non-null  float64\n",
      "dtypes: float64(9), int64(23)\n",
      "memory usage: 7.3 MB\n"
     ]
    }
   ],
   "source": [
    "df.info()"
   ]
  },
  {
   "cell_type": "code",
   "execution_count": 64,
   "id": "bdece07e",
   "metadata": {},
   "outputs": [
    {
     "data": {
      "text/html": [
       "<div>\n",
       "<style scoped>\n",
       "    .dataframe tbody tr th:only-of-type {\n",
       "        vertical-align: middle;\n",
       "    }\n",
       "\n",
       "    .dataframe tbody tr th {\n",
       "        vertical-align: top;\n",
       "    }\n",
       "\n",
       "    .dataframe thead th {\n",
       "        text-align: right;\n",
       "    }\n",
       "</style>\n",
       "<table border=\"1\" class=\"dataframe\">\n",
       "  <thead>\n",
       "    <tr style=\"text-align: right;\">\n",
       "      <th></th>\n",
       "      <th>ID</th>\n",
       "      <th>CC_LIMIT_CAT</th>\n",
       "      <th>EDUCATION</th>\n",
       "      <th>MARITAL_STATUS</th>\n",
       "      <th>GENDER</th>\n",
       "      <th>AGE_GROUP</th>\n",
       "      <th>pay_status_1</th>\n",
       "      <th>pay_status_2</th>\n",
       "      <th>pay_status_3</th>\n",
       "      <th>pay_status_4</th>\n",
       "      <th>...</th>\n",
       "      <th>_tpm</th>\n",
       "      <th>_ppm</th>\n",
       "      <th>_RETAIL</th>\n",
       "      <th>_URBAN</th>\n",
       "      <th>_RURAL</th>\n",
       "      <th>_PREMIUM</th>\n",
       "      <th>_TREATMENT</th>\n",
       "      <th>_LTV</th>\n",
       "      <th>_CC_LIMIT</th>\n",
       "      <th>_risk_score</th>\n",
       "    </tr>\n",
       "  </thead>\n",
       "  <tbody>\n",
       "    <tr>\n",
       "      <th>count</th>\n",
       "      <td>30000.000000</td>\n",
       "      <td>30000.000000</td>\n",
       "      <td>30000.000000</td>\n",
       "      <td>30000.000000</td>\n",
       "      <td>30000.000000</td>\n",
       "      <td>30000.000000</td>\n",
       "      <td>30000.000000</td>\n",
       "      <td>30000.000000</td>\n",
       "      <td>30000.000000</td>\n",
       "      <td>30000.000000</td>\n",
       "      <td>...</td>\n",
       "      <td>30000.000000</td>\n",
       "      <td>30000.0000</td>\n",
       "      <td>30000.000000</td>\n",
       "      <td>30000.000000</td>\n",
       "      <td>30000.000000</td>\n",
       "      <td>30000.000000</td>\n",
       "      <td>30000.000000</td>\n",
       "      <td>30000.000000</td>\n",
       "      <td>30000.0000</td>\n",
       "      <td>30000.000000</td>\n",
       "    </tr>\n",
       "    <tr>\n",
       "      <th>mean</th>\n",
       "      <td>15000.500000</td>\n",
       "      <td>3.443600</td>\n",
       "      <td>2.157733</td>\n",
       "      <td>1.442733</td>\n",
       "      <td>1.603733</td>\n",
       "      <td>0.751033</td>\n",
       "      <td>-0.016700</td>\n",
       "      <td>-0.133767</td>\n",
       "      <td>-0.166200</td>\n",
       "      <td>-0.220667</td>\n",
       "      <td>...</td>\n",
       "      <td>1.344633</td>\n",
       "      <td>1.2180</td>\n",
       "      <td>-0.938633</td>\n",
       "      <td>-0.944933</td>\n",
       "      <td>-0.956400</td>\n",
       "      <td>-0.955967</td>\n",
       "      <td>-0.908667</td>\n",
       "      <td>559.368050</td>\n",
       "      <td>4122.8050</td>\n",
       "      <td>0.333108</td>\n",
       "    </tr>\n",
       "    <tr>\n",
       "      <th>std</th>\n",
       "      <td>8660.398374</td>\n",
       "      <td>2.291985</td>\n",
       "      <td>0.744494</td>\n",
       "      <td>0.521405</td>\n",
       "      <td>0.489129</td>\n",
       "      <td>0.432422</td>\n",
       "      <td>1.123802</td>\n",
       "      <td>1.197186</td>\n",
       "      <td>1.196868</td>\n",
       "      <td>1.169139</td>\n",
       "      <td>...</td>\n",
       "      <td>15.951119</td>\n",
       "      <td>15.4903</td>\n",
       "      <td>0.327523</td>\n",
       "      <td>0.298503</td>\n",
       "      <td>0.236293</td>\n",
       "      <td>0.238948</td>\n",
       "      <td>0.515429</td>\n",
       "      <td>3593.267918</td>\n",
       "      <td>28619.8455</td>\n",
       "      <td>0.350542</td>\n",
       "    </tr>\n",
       "    <tr>\n",
       "      <th>min</th>\n",
       "      <td>1.000000</td>\n",
       "      <td>0.000000</td>\n",
       "      <td>0.000000</td>\n",
       "      <td>0.000000</td>\n",
       "      <td>1.000000</td>\n",
       "      <td>0.000000</td>\n",
       "      <td>-2.000000</td>\n",
       "      <td>-2.000000</td>\n",
       "      <td>-2.000000</td>\n",
       "      <td>-2.000000</td>\n",
       "      <td>...</td>\n",
       "      <td>-1.000000</td>\n",
       "      <td>-1.0000</td>\n",
       "      <td>-1.000000</td>\n",
       "      <td>-1.000000</td>\n",
       "      <td>-1.000000</td>\n",
       "      <td>-1.000000</td>\n",
       "      <td>-1.000000</td>\n",
       "      <td>-616.572451</td>\n",
       "      <td>-1.0000</td>\n",
       "      <td>-0.876743</td>\n",
       "    </tr>\n",
       "    <tr>\n",
       "      <th>25%</th>\n",
       "      <td>7500.750000</td>\n",
       "      <td>1.000000</td>\n",
       "      <td>2.000000</td>\n",
       "      <td>1.000000</td>\n",
       "      <td>1.000000</td>\n",
       "      <td>1.000000</td>\n",
       "      <td>-1.000000</td>\n",
       "      <td>-1.000000</td>\n",
       "      <td>-1.000000</td>\n",
       "      <td>-1.000000</td>\n",
       "      <td>...</td>\n",
       "      <td>-1.000000</td>\n",
       "      <td>-1.0000</td>\n",
       "      <td>-1.000000</td>\n",
       "      <td>-1.000000</td>\n",
       "      <td>-1.000000</td>\n",
       "      <td>-1.000000</td>\n",
       "      <td>-1.000000</td>\n",
       "      <td>-1.000000</td>\n",
       "      <td>-1.0000</td>\n",
       "      <td>0.011133</td>\n",
       "    </tr>\n",
       "    <tr>\n",
       "      <th>50%</th>\n",
       "      <td>15000.500000</td>\n",
       "      <td>3.000000</td>\n",
       "      <td>2.000000</td>\n",
       "      <td>1.000000</td>\n",
       "      <td>2.000000</td>\n",
       "      <td>1.000000</td>\n",
       "      <td>0.000000</td>\n",
       "      <td>0.000000</td>\n",
       "      <td>0.000000</td>\n",
       "      <td>0.000000</td>\n",
       "      <td>...</td>\n",
       "      <td>-1.000000</td>\n",
       "      <td>-1.0000</td>\n",
       "      <td>-1.000000</td>\n",
       "      <td>-1.000000</td>\n",
       "      <td>-1.000000</td>\n",
       "      <td>-1.000000</td>\n",
       "      <td>-1.000000</td>\n",
       "      <td>-1.000000</td>\n",
       "      <td>-1.0000</td>\n",
       "      <td>0.212026</td>\n",
       "    </tr>\n",
       "    <tr>\n",
       "      <th>75%</th>\n",
       "      <td>22500.250000</td>\n",
       "      <td>5.000000</td>\n",
       "      <td>3.000000</td>\n",
       "      <td>2.000000</td>\n",
       "      <td>2.000000</td>\n",
       "      <td>1.000000</td>\n",
       "      <td>0.000000</td>\n",
       "      <td>0.000000</td>\n",
       "      <td>0.000000</td>\n",
       "      <td>0.000000</td>\n",
       "      <td>...</td>\n",
       "      <td>-1.000000</td>\n",
       "      <td>-1.0000</td>\n",
       "      <td>-1.000000</td>\n",
       "      <td>-1.000000</td>\n",
       "      <td>-1.000000</td>\n",
       "      <td>-1.000000</td>\n",
       "      <td>-1.000000</td>\n",
       "      <td>-1.000000</td>\n",
       "      <td>-1.0000</td>\n",
       "      <td>0.602245</td>\n",
       "    </tr>\n",
       "    <tr>\n",
       "      <th>max</th>\n",
       "      <td>30000.000000</td>\n",
       "      <td>7.000000</td>\n",
       "      <td>3.000000</td>\n",
       "      <td>2.000000</td>\n",
       "      <td>2.000000</td>\n",
       "      <td>1.000000</td>\n",
       "      <td>8.000000</td>\n",
       "      <td>8.000000</td>\n",
       "      <td>8.000000</td>\n",
       "      <td>8.000000</td>\n",
       "      <td>...</td>\n",
       "      <td>397.000000</td>\n",
       "      <td>368.0000</td>\n",
       "      <td>1.000000</td>\n",
       "      <td>1.000000</td>\n",
       "      <td>1.000000</td>\n",
       "      <td>1.000000</td>\n",
       "      <td>3.000000</td>\n",
       "      <td>86006.924450</td>\n",
       "      <td>766485.0000</td>\n",
       "      <td>4.935500</td>\n",
       "    </tr>\n",
       "  </tbody>\n",
       "</table>\n",
       "<p>8 rows × 32 columns</p>\n",
       "</div>"
      ],
      "text/plain": [
       "                 ID  CC_LIMIT_CAT     EDUCATION  MARITAL_STATUS        GENDER  \\\n",
       "count  30000.000000  30000.000000  30000.000000    30000.000000  30000.000000   \n",
       "mean   15000.500000      3.443600      2.157733        1.442733      1.603733   \n",
       "std     8660.398374      2.291985      0.744494        0.521405      0.489129   \n",
       "min        1.000000      0.000000      0.000000        0.000000      1.000000   \n",
       "25%     7500.750000      1.000000      2.000000        1.000000      1.000000   \n",
       "50%    15000.500000      3.000000      2.000000        1.000000      2.000000   \n",
       "75%    22500.250000      5.000000      3.000000        2.000000      2.000000   \n",
       "max    30000.000000      7.000000      3.000000        2.000000      2.000000   \n",
       "\n",
       "          AGE_GROUP  pay_status_1  pay_status_2  pay_status_3  pay_status_4  \\\n",
       "count  30000.000000  30000.000000  30000.000000  30000.000000  30000.000000   \n",
       "mean       0.751033     -0.016700     -0.133767     -0.166200     -0.220667   \n",
       "std        0.432422      1.123802      1.197186      1.196868      1.169139   \n",
       "min        0.000000     -2.000000     -2.000000     -2.000000     -2.000000   \n",
       "25%        1.000000     -1.000000     -1.000000     -1.000000     -1.000000   \n",
       "50%        1.000000      0.000000      0.000000      0.000000      0.000000   \n",
       "75%        1.000000      0.000000      0.000000      0.000000      0.000000   \n",
       "max        1.000000      8.000000      8.000000      8.000000      8.000000   \n",
       "\n",
       "       ...          _tpm        _ppm       _RETAIL        _URBAN  \\\n",
       "count  ...  30000.000000  30000.0000  30000.000000  30000.000000   \n",
       "mean   ...      1.344633      1.2180     -0.938633     -0.944933   \n",
       "std    ...     15.951119     15.4903      0.327523      0.298503   \n",
       "min    ...     -1.000000     -1.0000     -1.000000     -1.000000   \n",
       "25%    ...     -1.000000     -1.0000     -1.000000     -1.000000   \n",
       "50%    ...     -1.000000     -1.0000     -1.000000     -1.000000   \n",
       "75%    ...     -1.000000     -1.0000     -1.000000     -1.000000   \n",
       "max    ...    397.000000    368.0000      1.000000      1.000000   \n",
       "\n",
       "             _RURAL      _PREMIUM    _TREATMENT          _LTV    _CC_LIMIT  \\\n",
       "count  30000.000000  30000.000000  30000.000000  30000.000000   30000.0000   \n",
       "mean      -0.956400     -0.955967     -0.908667    559.368050    4122.8050   \n",
       "std        0.236293      0.238948      0.515429   3593.267918   28619.8455   \n",
       "min       -1.000000     -1.000000     -1.000000   -616.572451      -1.0000   \n",
       "25%       -1.000000     -1.000000     -1.000000     -1.000000      -1.0000   \n",
       "50%       -1.000000     -1.000000     -1.000000     -1.000000      -1.0000   \n",
       "75%       -1.000000     -1.000000     -1.000000     -1.000000      -1.0000   \n",
       "max        1.000000      1.000000      3.000000  86006.924450  766485.0000   \n",
       "\n",
       "        _risk_score  \n",
       "count  30000.000000  \n",
       "mean       0.333108  \n",
       "std        0.350542  \n",
       "min       -0.876743  \n",
       "25%        0.011133  \n",
       "50%        0.212026  \n",
       "75%        0.602245  \n",
       "max        4.935500  \n",
       "\n",
       "[8 rows x 32 columns]"
      ]
     },
     "execution_count": 64,
     "metadata": {},
     "output_type": "execute_result"
    }
   ],
   "source": [
    "df.describe()"
   ]
  },
  {
   "cell_type": "code",
   "execution_count": 7,
   "id": "aced20a1",
   "metadata": {},
   "outputs": [],
   "source": [
    "X = df_new.drop(['IS_DEFAULT'] , axis=1)\n",
    "y =df_new['IS_DEFAULT']\n",
    "X_train, X_test, y_train, y_test = train_test_split(X, y, test_size=0.3, shuffle=True)"
   ]
  },
  {
   "cell_type": "markdown",
   "id": "b734166d",
   "metadata": {},
   "source": [
    "# Confusion Matrix"
   ]
  },
  {
   "cell_type": "code",
   "execution_count": 8,
   "id": "30ee2b3d",
   "metadata": {},
   "outputs": [],
   "source": [
    "ccdefault_bias_df = df_new[df_new._TREATMENT < 1]\n",
    "ccdefault_causal_df = df_new[df_new._TREATMENT >= 0]"
   ]
  },
  {
   "cell_type": "code",
   "execution_count": 9,
   "id": "a3605830",
   "metadata": {},
   "outputs": [
    {
     "name": "stdout",
     "output_type": "stream",
     "text": [
      "all repayment delays\n",
      " _TREATMENT\n",
      "-1    6335\n",
      " 0      96\n",
      "Name: count, dtype: int64\n"
     ]
    }
   ],
   "source": [
    "print(\"all repayment delays\\n\",\n",
    "ccdefault_bias_df[ccdefault_bias_df.IS_DEFAULT==1]._TREATMENT.\\\n",
    "value_counts())\n"
   ]
  },
  {
   "cell_type": "code",
   "execution_count": 10,
   "id": "356b1e81",
   "metadata": {},
   "outputs": [
    {
     "name": "stdout",
     "output_type": "stream",
     "text": [
      "number of women/men\n",
      " GENDER\n",
      "2    17644\n",
      "1    11534\n",
      "Name: count, dtype: int64\n",
      "number of women/men with repayment delay\n",
      " GENDER\n",
      "2    3644\n",
      "1    2787\n",
      "Name: count, dtype: int64\n"
     ]
    }
   ],
   "source": [
    "print(\"number of women/men\\n\",ccdefault_bias_df.GENDER.value_counts())\n",
    "print(\"number of women/men with repayment delay\\n\",\n",
    "ccdefault_bias_df[ccdefault_bias_df.IS_DEFAULT==1].GENDER.\\\n",
    "value_counts())"
   ]
  },
  {
   "cell_type": "code",
   "execution_count": 11,
   "id": "012a12ea",
   "metadata": {},
   "outputs": [
    {
     "name": "stdout",
     "output_type": "stream",
     "text": [
      "Percentage of women/men with repayment delay\n",
      " GENDER\n",
      "2    0.206529\n",
      "1    0.241633\n",
      "Name: count, dtype: float64\n"
     ]
    }
   ],
   "source": [
    "print(\"Percentage of women/men with repayment delay\\n\",ccdefault_bias_df[ccdefault_bias_df.IS_DEFAULT==1].GENDER.\\\n",
    "value_counts()/ccdefault_bias_df.GENDER.value_counts())"
   ]
  },
  {
   "cell_type": "code",
   "execution_count": 12,
   "id": "8bf731f4",
   "metadata": {},
   "outputs": [
    {
     "name": "stdout",
     "output_type": "stream",
     "text": [
      "cf_matrix\n",
      " [[ 8747  2787]\n",
      " [14000  3644]]\n"
     ]
    }
   ],
   "source": [
    "cf_matrix = metrics.confusion_matrix(ccdefault_bias_df.GENDER==2,\\\n",
    "ccdefault_bias_df.IS_DEFAULT)\n",
    "print(\"cf_matrix\\n\",cf_matrix)"
   ]
  },
  {
   "cell_type": "code",
   "execution_count": 13,
   "id": "b4c7a6db",
   "metadata": {},
   "outputs": [
    {
     "data": {
      "image/png": "[encoded data removed]",
      "text/plain": [
       "<Figure size 800x600 with 2 Axes>"
      ]
     },
     "metadata": {},
     "output_type": "display_data"
    }
   ],
   "source": [
    "plt.figure(figsize=(8, 6))\n",
    "sns.heatmap(cf_matrix, annot=True, fmt='.2f', cmap='Blues', xticklabels=['No Default', 'Default'],\n",
    "            yticklabels=['Male', 'Female'])    \n",
    "plt.title('Confusion Matrix')\n",
    "plt.xlabel('Predicted')\n",
    "plt.ylabel('Actual')\n",
    "plt.show()"
   ]
  },
  {
   "cell_type": "markdown",
   "id": "ad8a95cf",
   "metadata": {},
   "source": [
    "# Quantifying Dataset Bias"
   ]
  },
  {
   "cell_type": "code",
   "execution_count": 14,
   "id": "0f42c8e3",
   "metadata": {},
   "outputs": [],
   "source": [
    "from sklearn import model_selection  \n",
    "from sklearn.model_selection import train_test_split\n",
    "rand = 9\n",
    "os.environ['PYTHONHASHSEED']=str(rand)\n",
    "np.random.seed(rand)\n",
    "y = ccdefault_bias_df['IS_DEFAULT']\n",
    "X = ccdefault_bias_df.drop(['IS_DEFAULT'], axis=1).copy()\n",
    "X_train, X_test, y_train, y_test = model_selection.train_test_split(X, y, test_size=0.25, random_state=rand)"
   ]
  },
  {
   "cell_type": "code",
   "execution_count": 15,
   "id": "d88b662d",
   "metadata": {},
   "outputs": [
    {
     "name": "stdout",
     "output_type": "stream",
     "text": [
      "Requirement already satisfied: aif360[LawSchoolGPA] in c:\\users\\irfan\\anaconda3\\lib\\site-packages (0.5.0)Note: you may need to restart the kernel to use updated packages.\n",
      "\n",
      "Requirement already satisfied: pandas>=0.24.0 in c:\\users\\irfan\\anaconda3\\lib\\site-packages (from aif360[LawSchoolGPA]) (2.2.0)\n",
      "Requirement already satisfied: matplotlib in c:\\users\\irfan\\anaconda3\\lib\\site-packages (from aif360[LawSchoolGPA]) (3.7.0)\n",
      "Requirement already satisfied: scipy>=1.2.0 in c:\\users\\irfan\\anaconda3\\lib\\site-packages (from aif360[LawSchoolGPA]) (1.10.0)\n",
      "Requirement already satisfied: numpy>=1.16 in c:\\users\\irfan\\anaconda3\\lib\\site-packages (from aif360[LawSchoolGPA]) (1.23.5)\n",
      "Requirement already satisfied: scikit-learn>=1.0 in c:\\users\\irfan\\anaconda3\\lib\\site-packages (from aif360[LawSchoolGPA]) (1.2.1)\n",
      "Requirement already satisfied: tempeh in c:\\users\\irfan\\anaconda3\\lib\\site-packages (from aif360[LawSchoolGPA]) (0.1.12)\n",
      "Requirement already satisfied: tzdata>=2022.7 in c:\\users\\irfan\\anaconda3\\lib\\site-packages (from pandas>=0.24.0->aif360[LawSchoolGPA]) (2023.4)\n",
      "Requirement already satisfied: pytz>=2020.1 in c:\\users\\irfan\\anaconda3\\lib\\site-packages (from pandas>=0.24.0->aif360[LawSchoolGPA]) (2022.7)\n",
      "Requirement already satisfied: python-dateutil>=2.8.2 in c:\\users\\irfan\\anaconda3\\lib\\site-packages (from pandas>=0.24.0->aif360[LawSchoolGPA]) (2.8.2)\n",
      "Requirement already satisfied: joblib>=1.1.1 in c:\\users\\irfan\\anaconda3\\lib\\site-packages (from scikit-learn>=1.0->aif360[LawSchoolGPA]) (1.1.1)\n",
      "Requirement already satisfied: threadpoolctl>=2.0.0 in c:\\users\\irfan\\anaconda3\\lib\\site-packages (from scikit-learn>=1.0->aif360[LawSchoolGPA]) (2.2.0)\n",
      "Requirement already satisfied: kiwisolver>=1.0.1 in c:\\users\\irfan\\anaconda3\\lib\\site-packages (from matplotlib->aif360[LawSchoolGPA]) (1.4.4)\n",
      "Requirement already satisfied: pillow>=6.2.0 in c:\\users\\irfan\\anaconda3\\lib\\site-packages (from matplotlib->aif360[LawSchoolGPA]) (9.4.0)\n",
      "Requirement already satisfied: cycler>=0.10 in c:\\users\\irfan\\anaconda3\\lib\\site-packages (from matplotlib->aif360[LawSchoolGPA]) (0.11.0)\n",
      "Requirement already satisfied: contourpy>=1.0.1 in c:\\users\\irfan\\anaconda3\\lib\\site-packages (from matplotlib->aif360[LawSchoolGPA]) (1.0.5)\n",
      "Requirement already satisfied: packaging>=20.0 in c:\\users\\irfan\\anaconda3\\lib\\site-packages (from matplotlib->aif360[LawSchoolGPA]) (22.0)\n",
      "Requirement already satisfied: pyparsing>=2.3.1 in c:\\users\\irfan\\anaconda3\\lib\\site-packages (from matplotlib->aif360[LawSchoolGPA]) (3.0.9)\n",
      "Requirement already satisfied: fonttools>=4.22.0 in c:\\users\\irfan\\anaconda3\\lib\\site-packages (from matplotlib->aif360[LawSchoolGPA]) (4.25.0)\n",
      "Requirement already satisfied: requests in c:\\users\\irfan\\anaconda3\\lib\\site-packages (from tempeh->aif360[LawSchoolGPA]) (2.28.1)\n",
      "Requirement already satisfied: shap in c:\\users\\irfan\\anaconda3\\lib\\site-packages (from tempeh->aif360[LawSchoolGPA]) (0.43.0)\n",
      "Requirement already satisfied: pytest in c:\\users\\irfan\\anaconda3\\lib\\site-packages (from tempeh->aif360[LawSchoolGPA]) (7.1.2)\n",
      "Requirement already satisfied: memory-profiler in c:\\users\\irfan\\anaconda3\\lib\\site-packages (from tempeh->aif360[LawSchoolGPA]) (0.61.0)\n",
      "Requirement already satisfied: six>=1.5 in c:\\users\\irfan\\anaconda3\\lib\\site-packages (from python-dateutil>=2.8.2->pandas>=0.24.0->aif360[LawSchoolGPA]) (1.16.0)\n",
      "Requirement already satisfied: psutil in c:\\users\\irfan\\anaconda3\\lib\\site-packages (from memory-profiler->tempeh->aif360[LawSchoolGPA]) (5.9.0)\n",
      "Requirement already satisfied: attrs>=19.2.0 in c:\\users\\irfan\\anaconda3\\lib\\site-packages (from pytest->tempeh->aif360[LawSchoolGPA]) (22.1.0)\n",
      "Requirement already satisfied: iniconfig in c:\\users\\irfan\\anaconda3\\lib\\site-packages (from pytest->tempeh->aif360[LawSchoolGPA]) (1.1.1)\n",
      "Requirement already satisfied: pluggy<2.0,>=0.12 in c:\\users\\irfan\\anaconda3\\lib\\site-packages (from pytest->tempeh->aif360[LawSchoolGPA]) (1.0.0)\n",
      "Requirement already satisfied: py>=1.8.2 in c:\\users\\irfan\\anaconda3\\lib\\site-packages (from pytest->tempeh->aif360[LawSchoolGPA]) (1.11.0)\n",
      "Requirement already satisfied: tomli>=1.0.0 in c:\\users\\irfan\\anaconda3\\lib\\site-packages (from pytest->tempeh->aif360[LawSchoolGPA]) (2.0.1)\n",
      "Requirement already satisfied: atomicwrites>=1.0 in c:\\users\\irfan\\anaconda3\\lib\\site-packages (from pytest->tempeh->aif360[LawSchoolGPA]) (1.4.0)\n",
      "Requirement already satisfied: colorama in c:\\users\\irfan\\anaconda3\\lib\\site-packages (from pytest->tempeh->aif360[LawSchoolGPA]) (0.4.6)\n",
      "Requirement already satisfied: charset-normalizer<3,>=2 in c:\\users\\irfan\\anaconda3\\lib\\site-packages (from requests->tempeh->aif360[LawSchoolGPA]) (2.0.4)\n",
      "Requirement already satisfied: urllib3<1.27,>=1.21.1 in c:\\users\\irfan\\anaconda3\\lib\\site-packages (from requests->tempeh->aif360[LawSchoolGPA]) (1.26.14)\n",
      "Requirement already satisfied: idna<4,>=2.5 in c:\\users\\irfan\\anaconda3\\lib\\site-packages (from requests->tempeh->aif360[LawSchoolGPA]) (3.4)\n",
      "Requirement already satisfied: certifi>=2017.4.17 in c:\\users\\irfan\\anaconda3\\lib\\site-packages (from requests->tempeh->aif360[LawSchoolGPA]) (2022.12.7)\n",
      "Requirement already satisfied: tqdm>=4.27.0 in c:\\users\\irfan\\anaconda3\\lib\\site-packages (from shap->tempeh->aif360[LawSchoolGPA]) (4.64.1)\n",
      "Requirement already satisfied: slicer==0.0.7 in c:\\users\\irfan\\anaconda3\\lib\\site-packages (from shap->tempeh->aif360[LawSchoolGPA]) (0.0.7)\n",
      "Requirement already satisfied: numba in c:\\users\\irfan\\anaconda3\\lib\\site-packages (from shap->tempeh->aif360[LawSchoolGPA]) (0.56.4)\n",
      "Requirement already satisfied: cloudpickle in c:\\users\\irfan\\anaconda3\\lib\\site-packages (from shap->tempeh->aif360[LawSchoolGPA]) (2.0.0)\n",
      "Requirement already satisfied: setuptools in c:\\users\\irfan\\anaconda3\\lib\\site-packages (from numba->shap->tempeh->aif360[LawSchoolGPA]) (65.6.3)\n",
      "Requirement already satisfied: llvmlite<0.40,>=0.39.0dev0 in c:\\users\\irfan\\anaconda3\\lib\\site-packages (from numba->shap->tempeh->aif360[LawSchoolGPA]) (0.39.1)\n"
     ]
    }
   ],
   "source": [
    "pip install aif360[LawSchoolGPA]"
   ]
  },
  {
   "cell_type": "code",
   "execution_count": 16,
   "id": "7470d52f",
   "metadata": {},
   "outputs": [
    {
     "name": "stderr",
     "output_type": "stream",
     "text": [
      "WARNING:root:\n",
      "`load_boston` has been removed from scikit-learn since version 1.2.\n",
      "\n",
      "The Boston housing prices dataset has an ethical problem: as\n",
      "investigated in [1], the authors of this dataset engineered a\n",
      "non-invertible variable \"B\" assuming that racial self-segregation had a\n",
      "positive impact on house prices [2]. Furthermore the goal of the\n",
      "research that led to the creation of this dataset was to study the\n",
      "impact of air quality but it did not give adequate demonstration of the\n",
      "validity of this assumption.\n",
      "\n",
      "The scikit-learn maintainers therefore strongly discourage the use of\n",
      "this dataset unless the purpose of the code is to study and educate\n",
      "about ethical issues in data science and machine learning.\n",
      "\n",
      "In this special case, you can fetch the dataset from the original\n",
      "source::\n",
      "\n",
      "    import pandas as pd\n",
      "    import numpy as np\n",
      "\n",
      "    data_url = \"http://lib.stat.cmu.edu/datasets/boston\"\n",
      "    raw_df = pd.read_csv(data_url, sep=\"\\s+\", skiprows=22, header=None)\n",
      "    data = np.hstack([raw_df.values[::2, :], raw_df.values[1::2, :2]])\n",
      "    target = raw_df.values[1::2, 2]\n",
      "\n",
      "Alternative datasets include the California housing dataset and the\n",
      "Ames housing dataset. You can load the datasets as follows::\n",
      "\n",
      "    from sklearn.datasets import fetch_california_housing\n",
      "    housing = fetch_california_housing()\n",
      "\n",
      "for the California housing dataset and::\n",
      "\n",
      "    from sklearn.datasets import fetch_openml\n",
      "    housing = fetch_openml(name=\"house_prices\", as_frame=True)\n",
      "\n",
      "for the Ames housing dataset.\n",
      "\n",
      "[1] M Carlisle.\n",
      "\"Racist data destruction?\"\n",
      "<https://medium.com/@docintangible/racist-data-destruction-113e3eff54a8>\n",
      "\n",
      "[2] Harrison Jr, David, and Daniel L. Rubinfeld.\n",
      "\"Hedonic housing prices and the demand for clean air.\"\n",
      "Journal of environmental economics and management 5.1 (1978): 81-102.\n",
      "<https://www.researchgate.net/publication/4974606_Hedonic_housing_prices_and_the_demand_for_clean_air>\n",
      ": LawSchoolGPADataset will be unavailable. To install, run:\n",
      "pip install 'aif360[LawSchoolGPA]'\n"
     ]
    }
   ],
   "source": [
    "from aif360.datasets import BinaryLabelDataset\n",
    "\n",
    "train_ds = BinaryLabelDataset(df=X_train.join(y_train),\\\n",
    "label_names=['IS_DEFAULT'],\\\n",
    "protected_attribute_names=['AGE_GROUP', 'GENDER'],\n",
    "favorable_label=0, unfavorable_label=1)"
   ]
  },
  {
   "cell_type": "code",
   "execution_count": 17,
   "id": "947bec6b",
   "metadata": {},
   "outputs": [],
   "source": [
    "test_ds = BinaryLabelDataset(df=X_test.join(y_test),label_names=['IS_DEFAULT'],protected_attribute_names=['AGE_GROUP', 'GENDER'],\n",
    "favorable_label=0, unfavorable_label=1)"
   ]
  },
  {
   "cell_type": "code",
   "execution_count": 18,
   "id": "77fc067a",
   "metadata": {},
   "outputs": [],
   "source": [
    "unprivileged_groups=[{'GENDER': 2}]\n",
    "privileged_groups=[{'GENDER': 1}]"
   ]
  },
  {
   "cell_type": "code",
   "execution_count": 19,
   "id": "841c7411",
   "metadata": {},
   "outputs": [
    {
     "name": "stderr",
     "output_type": "stream",
     "text": [
      "WARNING:tensorflow:From C:\\Users\\IRFAN\\anaconda3\\lib\\site-packages\\keras\\src\\losses.py:2976: The name tf.losses.sparse_softmax_cross_entropy is deprecated. Please use tf.compat.v1.losses.sparse_softmax_cross_entropy instead.\n",
      "\n"
     ]
    }
   ],
   "source": [
    "from aif360.metrics import BinaryLabelDatasetMetric"
   ]
  },
  {
   "cell_type": "code",
   "execution_count": 20,
   "id": "6eb55dc9",
   "metadata": {},
   "outputs": [
    {
     "name": "stdout",
     "output_type": "stream",
     "text": [
      "Difference in mean outcomes TEST between unprivileged and privileged groups =  0.02220936155107256\n"
     ]
    }
   ],
   "source": [
    "metrics_train_ds = BinaryLabelDatasetMetric(train_ds,unprivileged_groups=unprivileged_groups,privileged_groups=privileged_groups)\n",
    "\n",
    "metrics_test_ds = BinaryLabelDatasetMetric(test_ds, unprivileged_groups=unprivileged_groups, privileged_groups=privileged_groups)\n",
    "\n",
    "print (\"Difference in mean outcomes TEST between unprivileged and privileged groups = \",\n",
    "metrics_test_ds.mean_difference())"
   ]
  },
  {
   "cell_type": "markdown",
   "id": "9244567c",
   "metadata": {},
   "source": [
    "# Statistical Parity Difference"
   ]
  },
  {
   "cell_type": "code",
   "execution_count": 21,
   "id": "44188ba9",
   "metadata": {},
   "outputs": [
    {
     "name": "stdout",
     "output_type": "stream",
     "text": [
      "Statistical Parity Difference (SPD):\t\t\t0.0394\n"
     ]
    }
   ],
   "source": [
    "print('Statistical Parity Difference (SPD):\\t\\t\\t%.4f' %\\\n",
    "metrics_train_ds.statistical_parity_difference())"
   ]
  },
  {
   "cell_type": "markdown",
   "id": "ec982150",
   "metadata": {},
   "source": [
    "# Disparate Impact "
   ]
  },
  {
   "cell_type": "code",
   "execution_count": 22,
   "id": "e0bd5162",
   "metadata": {},
   "outputs": [
    {
     "name": "stdout",
     "output_type": "stream",
     "text": [
      "Disparate Impact (DI):\t\t\t\t\t1.0522\n"
     ]
    }
   ],
   "source": [
    "print('Disparate Impact (DI):\\t\\t\\t\\t\\t%.4f' %\\\n",
    "metrics_train_ds.disparate_impact())"
   ]
  },
  {
   "cell_type": "markdown",
   "id": "0d042392",
   "metadata": {},
   "source": [
    "# Smoothed Empirical Differential"
   ]
  },
  {
   "cell_type": "code",
   "execution_count": 23,
   "id": "0a3c7cf7",
   "metadata": {},
   "outputs": [
    {
     "name": "stdout",
     "output_type": "stream",
     "text": [
      "Smoothed Empirical Differential Fairness (SEDF):\t0.3514\n"
     ]
    }
   ],
   "source": [
    "print('Smoothed Empirical Differential Fairness (SEDF):\\t%.4f' %\\\n",
    "metrics_train_ds.smoothed_empirical_differential_fairness())"
   ]
  },
  {
   "cell_type": "markdown",
   "id": "a7de0efc",
   "metadata": {},
   "source": [
    "# Model Bias Quantification"
   ]
  },
  {
   "cell_type": "code",
   "execution_count": 24,
   "id": "ce5e1bc2",
   "metadata": {},
   "outputs": [
    {
     "name": "stdout",
     "output_type": "stream",
     "text": [
      "Requirement already satisfied: tensorflow in c:\\users\\irfan\\anaconda3\\lib\\site-packages (2.15.0)\n",
      "Requirement already satisfied: tensorflow-intel==2.15.0 in c:\\users\\irfan\\anaconda3\\lib\\site-packages (from tensorflow) (2.15.0)\n",
      "Requirement already satisfied: wrapt<1.15,>=1.11.0 in c:\\users\\irfan\\anaconda3\\lib\\site-packages (from tensorflow-intel==2.15.0->tensorflow) (1.14.1)\n",
      "Requirement already satisfied: h5py>=2.9.0 in c:\\users\\irfan\\anaconda3\\lib\\site-packages (from tensorflow-intel==2.15.0->tensorflow) (3.7.0)\n",
      "Requirement already satisfied: ml-dtypes~=0.2.0 in c:\\users\\irfan\\anaconda3\\lib\\site-packages (from tensorflow-intel==2.15.0->tensorflow) (0.2.0)\n",
      "Requirement already satisfied: keras<2.16,>=2.15.0 in c:\\users\\irfan\\anaconda3\\lib\\site-packages (from tensorflow-intel==2.15.0->tensorflow) (2.15.0)\n",
      "Requirement already satisfied: tensorflow-estimator<2.16,>=2.15.0 in c:\\users\\irfan\\anaconda3\\lib\\site-packages (from tensorflow-intel==2.15.0->tensorflow) (2.15.0)\n",
      "Requirement already satisfied: setuptools in c:\\users\\irfan\\anaconda3\\lib\\site-packages (from tensorflow-intel==2.15.0->tensorflow) (65.6.3)\n",
      "Requirement already satisfied: google-pasta>=0.1.1 in c:\\users\\irfan\\anaconda3\\lib\\site-packages (from tensorflow-intel==2.15.0->tensorflow) (0.2.0)\n",
      "Requirement already satisfied: libclang>=13.0.0 in c:\\users\\irfan\\anaconda3\\lib\\site-packages (from tensorflow-intel==2.15.0->tensorflow) (16.0.6)\n",
      "Requirement already satisfied: gast!=0.5.0,!=0.5.1,!=0.5.2,>=0.2.1 in c:\\users\\irfan\\anaconda3\\lib\\site-packages (from tensorflow-intel==2.15.0->tensorflow) (0.5.4)\n",
      "Requirement already satisfied: packaging in c:\\users\\irfan\\anaconda3\\lib\\site-packages (from tensorflow-intel==2.15.0->tensorflow) (22.0)\n",
      "Requirement already satisfied: typing-extensions>=3.6.6 in c:\\users\\irfan\\anaconda3\\lib\\site-packages (from tensorflow-intel==2.15.0->tensorflow) (4.4.0)\n",
      "Requirement already satisfied: protobuf!=4.21.0,!=4.21.1,!=4.21.2,!=4.21.3,!=4.21.4,!=4.21.5,<5.0.0dev,>=3.20.3 in c:\\users\\irfan\\anaconda3\\lib\\site-packages (from tensorflow-intel==2.15.0->tensorflow) (4.23.4)\n",
      "Requirement already satisfied: six>=1.12.0 in c:\\users\\irfan\\anaconda3\\lib\\site-packages (from tensorflow-intel==2.15.0->tensorflow) (1.16.0)\n",
      "Requirement already satisfied: flatbuffers>=23.5.26 in c:\\users\\irfan\\anaconda3\\lib\\site-packages (from tensorflow-intel==2.15.0->tensorflow) (23.5.26)\n",
      "Requirement already satisfied: tensorboard<2.16,>=2.15 in c:\\users\\irfan\\anaconda3\\lib\\site-packages (from tensorflow-intel==2.15.0->tensorflow) (2.15.1)\n",
      "Requirement already satisfied: termcolor>=1.1.0 in c:\\users\\irfan\\anaconda3\\lib\\site-packages (from tensorflow-intel==2.15.0->tensorflow) (2.4.0)\n",
      "Requirement already satisfied: astunparse>=1.6.0 in c:\\users\\irfan\\anaconda3\\lib\\site-packages (from tensorflow-intel==2.15.0->tensorflow) (1.6.3)\n",
      "Requirement already satisfied: tensorflow-io-gcs-filesystem>=0.23.1 in c:\\users\\irfan\\anaconda3\\lib\\site-packages (from tensorflow-intel==2.15.0->tensorflow) (0.31.0)\n",
      "Requirement already satisfied: numpy<2.0.0,>=1.23.5 in c:\\users\\irfan\\anaconda3\\lib\\site-packages (from tensorflow-intel==2.15.0->tensorflow) (1.23.5)\n",
      "Requirement already satisfied: absl-py>=1.0.0 in c:\\users\\irfan\\anaconda3\\lib\\site-packages (from tensorflow-intel==2.15.0->tensorflow) (2.1.0)\n",
      "Requirement already satisfied: opt-einsum>=2.3.2 in c:\\users\\irfan\\anaconda3\\lib\\site-packages (from tensorflow-intel==2.15.0->tensorflow) (3.3.0)\n",
      "Requirement already satisfied: grpcio<2.0,>=1.24.3 in c:\\users\\irfan\\anaconda3\\lib\\site-packages (from tensorflow-intel==2.15.0->tensorflow) (1.60.0)\n",
      "Requirement already satisfied: wheel<1.0,>=0.23.0 in c:\\users\\irfan\\anaconda3\\lib\\site-packages (from astunparse>=1.6.0->tensorflow-intel==2.15.0->tensorflow) (0.38.4)\n",
      "Requirement already satisfied: google-auth<3,>=1.6.3 in c:\\users\\irfan\\anaconda3\\lib\\site-packages (from tensorboard<2.16,>=2.15->tensorflow-intel==2.15.0->tensorflow) (2.27.0)\n",
      "Requirement already satisfied: markdown>=2.6.8 in c:\\users\\irfan\\anaconda3\\lib\\site-packages (from tensorboard<2.16,>=2.15->tensorflow-intel==2.15.0->tensorflow) (3.4.1)\n",
      "Requirement already satisfied: werkzeug>=1.0.1 in c:\\users\\irfan\\anaconda3\\lib\\site-packages (from tensorboard<2.16,>=2.15->tensorflow-intel==2.15.0->tensorflow) (2.2.2)\n",
      "Requirement already satisfied: tensorboard-data-server<0.8.0,>=0.7.0 in c:\\users\\irfan\\anaconda3\\lib\\site-packages (from tensorboard<2.16,>=2.15->tensorflow-intel==2.15.0->tensorflow) (0.7.2)\n",
      "Requirement already satisfied: google-auth-oauthlib<2,>=0.5 in c:\\users\\irfan\\anaconda3\\lib\\site-packages (from tensorboard<2.16,>=2.15->tensorflow-intel==2.15.0->tensorflow) (1.2.0)\n",
      "Requirement already satisfied: requests<3,>=2.21.0 in c:\\users\\irfan\\anaconda3\\lib\\site-packages (from tensorboard<2.16,>=2.15->tensorflow-intel==2.15.0->tensorflow) (2.28.1)\n",
      "Requirement already satisfied: pyasn1-modules>=0.2.1 in c:\\users\\irfan\\anaconda3\\lib\\site-packages (from google-auth<3,>=1.6.3->tensorboard<2.16,>=2.15->tensorflow-intel==2.15.0->tensorflow) (0.2.8)\n",
      "Requirement already satisfied: rsa<5,>=3.1.4 in c:\\users\\irfan\\anaconda3\\lib\\site-packages (from google-auth<3,>=1.6.3->tensorboard<2.16,>=2.15->tensorflow-intel==2.15.0->tensorflow) (4.9)\n",
      "Requirement already satisfied: cachetools<6.0,>=2.0.0 in c:\\users\\irfan\\anaconda3\\lib\\site-packages (from google-auth<3,>=1.6.3->tensorboard<2.16,>=2.15->tensorflow-intel==2.15.0->tensorflow) (5.3.2)\n",
      "Requirement already satisfied: requests-oauthlib>=0.7.0 in c:\\users\\irfan\\anaconda3\\lib\\site-packages (from google-auth-oauthlib<2,>=0.5->tensorboard<2.16,>=2.15->tensorflow-intel==2.15.0->tensorflow) (1.3.1)\n",
      "Requirement already satisfied: charset-normalizer<3,>=2 in c:\\users\\irfan\\anaconda3\\lib\\site-packages (from requests<3,>=2.21.0->tensorboard<2.16,>=2.15->tensorflow-intel==2.15.0->tensorflow) (2.0.4)\n",
      "Requirement already satisfied: urllib3<1.27,>=1.21.1 in c:\\users\\irfan\\anaconda3\\lib\\site-packages (from requests<3,>=2.21.0->tensorboard<2.16,>=2.15->tensorflow-intel==2.15.0->tensorflow) (1.26.14)\n",
      "Requirement already satisfied: idna<4,>=2.5 in c:\\users\\irfan\\anaconda3\\lib\\site-packages (from requests<3,>=2.21.0->tensorboard<2.16,>=2.15->tensorflow-intel==2.15.0->tensorflow) (3.4)\n",
      "Requirement already satisfied: certifi>=2017.4.17 in c:\\users\\irfan\\anaconda3\\lib\\site-packages (from requests<3,>=2.21.0->tensorboard<2.16,>=2.15->tensorflow-intel==2.15.0->tensorflow) (2022.12.7)\n",
      "Requirement already satisfied: MarkupSafe>=2.1.1 in c:\\users\\irfan\\anaconda3\\lib\\site-packages (from werkzeug>=1.0.1->tensorboard<2.16,>=2.15->tensorflow-intel==2.15.0->tensorflow) (2.1.1)\n",
      "Requirement already satisfied: pyasn1<0.5.0,>=0.4.6 in c:\\users\\irfan\\anaconda3\\lib\\site-packages (from pyasn1-modules>=0.2.1->google-auth<3,>=1.6.3->tensorboard<2.16,>=2.15->tensorflow-intel==2.15.0->tensorflow) (0.4.8)\n",
      "Requirement already satisfied: oauthlib>=3.0.0 in c:\\users\\irfan\\anaconda3\\lib\\site-packages (from requests-oauthlib>=0.7.0->google-auth-oauthlib<2,>=0.5->tensorboard<2.16,>=2.15->tensorflow-intel==2.15.0->tensorflow) (3.2.2)\n",
      "Note: you may need to restart the kernel to use updated packages.\n"
     ]
    }
   ],
   "source": [
    "pip install tensorflow"
   ]
  },
  {
   "cell_type": "code",
   "execution_count": 44,
   "id": "eb2c3511",
   "metadata": {},
   "outputs": [],
   "source": [
    "import tensorflow as tf\n",
    "from catboost import CatBoostClassifier\n",
    "rand = 9\n",
    "np.random.seed(rand)\n",
    "tf.random.set_seed(rand)\n",
    "\n",
    "orig_plt_params = plt.rcParams\n",
    "sns.set()\n",
    "\n",
    "\n",
    "cb_mdl = CatBoostClassifier(iterations=500, learning_rate=0.5, depth=8)\n",
    "fitted_cb_mdl = cb_mdl.fit(X_train, y_train, verbose=False)\n",
    "y_test_cb_pred = fitted_cb_mdl .predict(X_test)\n",
    "\n",
    "\n"
   ]
  },
  {
   "cell_type": "code",
   "execution_count": 45,
   "id": "34796cbd",
   "metadata": {},
   "outputs": [
    {
     "name": "stdout",
     "output_type": "stream",
     "text": [
      "CatBoostClassifier without bias mitigation\n",
      " [[5284  428]\n",
      " [ 994  589]]\n"
     ]
    }
   ],
   "source": [
    "cf_matrix = metrics.confusion_matrix(y_test, y_test_cb_pred)\n",
    "print(\"CatBoostClassifier without bias mitigation\\n\",cf_matrix)"
   ]
  },
  {
   "cell_type": "code",
   "execution_count": 46,
   "id": "137356f1",
   "metadata": {},
   "outputs": [
    {
     "name": "stdout",
     "output_type": "stream",
     "text": [
      "Accuracy without bias mitigation: 0.8050719671007539\n"
     ]
    }
   ],
   "source": [
    "accuracy_without_bias = metrics.accuracy_score(y_test, y_test_cb_pred)\n",
    "print(\"Accuracy without bias mitigation:\", accuracy_without_bias)"
   ]
  },
  {
   "cell_type": "code",
   "execution_count": 28,
   "id": "6d4965f7",
   "metadata": {},
   "outputs": [
    {
     "data": {
      "image/png": "[encoded data removed]",
      "text/plain": [
       "<Figure size 800x600 with 2 Axes>"
      ]
     },
     "metadata": {},
     "output_type": "display_data"
    }
   ],
   "source": [
    "plt.figure(figsize=(8, 6))\n",
    "sns.heatmap(cf_matrix, annot=True, fmt='.2f', cmap='Blues', xticklabels=['No Default', 'Default'], yticklabels=['Male', 'Female'])\n",
    "plt.title('Confusion Matrix')\n",
    "plt.xlabel('Predicted')\n",
    "plt.ylabel('Actual')\n",
    "plt.show()"
   ]
  },
  {
   "cell_type": "markdown",
   "id": "d03ec8cc",
   "metadata": {},
   "source": [
    "# Comparison Using standard weight and used weight"
   ]
  },
  {
   "cell_type": "markdown",
   "id": "1ff8548c",
   "metadata": {},
   "source": [
    "# Used weight"
   ]
  },
  {
   "cell_type": "code",
   "execution_count": 47,
   "id": "ec8aea16",
   "metadata": {},
   "outputs": [
    {
     "name": "stdout",
     "output_type": "stream",
     "text": [
      "POSW CatBoostClassifier\n",
      " [[5437  275]\n",
      " [1140  443]]\n"
     ]
    }
   ],
   "source": [
    "test_pred_ds = test_ds.copy(deepcopy=True)\n",
    "cb_mdl = CatBoostClassifier(iterations=500, learning_rate=0.5, depth=8,class_weights = [0.8,0.2])\n",
    "fitted_cb_mdl = cb_mdl.fit(X_train, y_train, verbose=False)\n",
    "y_test_cb_pred = fitted_cb_mdl .predict(X_test)\n",
    "cf_matrix = metrics.confusion_matrix(y_test,y_test_cb_pred)\n",
    "print(\"POSW CatBoostClassifier\\n\",cf_matrix)"
   ]
  },
  {
   "cell_type": "code",
   "execution_count": 48,
   "id": "3dcad6b0",
   "metadata": {},
   "outputs": [
    {
     "name": "stdout",
     "output_type": "stream",
     "text": [
      "Accuracy with bias mitigation: 0.8060315284441398\n"
     ]
    }
   ],
   "source": [
    "# Calculate accuracy\n",
    "accuracy_with_bias = metrics.accuracy_score(y_test, y_test_cb_pred)\n",
    "print(\"Accuracy with bias mitigation:\", accuracy_with_bias)"
   ]
  },
  {
   "cell_type": "code",
   "execution_count": null,
   "id": "93c8f10f",
   "metadata": {},
   "outputs": [],
   "source": []
  },
  {
   "cell_type": "markdown",
   "id": "1a5d1210",
   "metadata": {},
   "source": [
    "Bias Mitigation Methods:\n",
    "\n",
    "1. Preprocessing:\n",
    "Advantages:\n",
    "\n",
    "Early Intervention: Detecting and removing bias from training data before model training can prevent biases from being    ingrained in the model.\n",
    "Transparency: It allows for transparency and understanding of potential biases present in the data.\n",
    "Domain Flexibility: Can be applied irrespective of the specific model used, making it applicable to various algorithms.\n",
    "\n",
    "Disadvantages:\n",
    "\n",
    "Limited Scope: May not address all biases, especially those that emerge during the model training process.\n",
    "Complexity: Identifying and removing bias at the source might be challenging and depends on the availability of representative data.\n",
    "\n",
    "2. In-processing:\n",
    "Advantages:\n",
    "\n",
    "Model Integration: Mitigating bias during model training ensures that the fairness considerations are directly integrated into the learning process.\n",
    "Fine-Tuning: Allows for fine-tuning fairness metrics during model training, striking a balance between fairness and accuracy.\n",
    "Adaptability: The approach can be adapted to various machine learning models.\n",
    "\n",
    "Disadvantages:\n",
    "\n",
    "Model Dependency: The effectiveness of in-processing methods is highly dependent on the specific machine learning model being used.\n",
    "Hyperparameter Tuning: Requires careful tuning of hyperparameters to achieve optimal fairness, which might be challenging.\n",
    "\n",
    "3. Post-processing:\n",
    "Advantages:\n",
    "\n",
    "Flexibility: No impact on the model training process, making it applicable to any pre-existing model.\n",
    "Outcome Fairness: Can specifically address outcome unfairness by making manual adjustments to predictions.\n",
    "Greater Impact: Particularly effective in addressing issues related to false positives, where mitigating bias can have a significant impact.\n",
    "\n",
    "Disadvantages:\n",
    "\n",
    "Disconnected Impact: Since post-processing occurs after the model is trained, it might be disconnected from the overall model development process.\n",
    "Manual Intervention: Manual adjustments may lack the precision of automated methods and could be resource-intensive.\n",
    "Risk of Deformation: Adjustments may introduce unintended consequences and potentially deform the model's behavior."
   ]
  },
  {
   "cell_type": "markdown",
   "id": "baf093a8",
   "metadata": {},
   "source": [
    "The greatest disadvantage of bias mitigation methods is the potential to introduce new biases or unintended consequences. Attempts to address existing biases may inadvertently create new biases, impacting accuracy, fairness, and ethical considerations. The effectiveness of mitigation methods is context-dependent, and achieving a balance between fairness and accuracy involves trade-offs. Transparency, human oversight, iterative development, and ethical guidelines are crucial for minimizing risks and ensuring responsible use of machine learning models."
   ]
  },
  {
   "cell_type": "markdown",
   "id": "e2611d9f",
   "metadata": {},
   "source": [
    "# Reweighting"
   ]
  },
  {
   "cell_type": "code",
   "execution_count": 50,
   "id": "41935340",
   "metadata": {},
   "outputs": [],
   "source": [
    "from aif360.algorithms.preprocessing import Reweighing\n",
    "\n",
    "reweigher = Reweighing(unprivileged_groups=unprivileged_groups, privileged_groups=privileged_groups)\n",
    "reweigher.fit(train_ds)\n",
    "train_rw_ds = reweigher.transform(train_ds)\n"
   ]
  },
  {
   "cell_type": "code",
   "execution_count": 52,
   "id": "26aef252",
   "metadata": {},
   "outputs": [
    {
     "name": "stdout",
     "output_type": "stream",
     "text": [
      "Reweigher (REW) Statistical Parity Difference (SPD):\t\t\t0.0000\n",
      "REW Disparate Impact (DI):\t\t\t\t\t1.0000\n",
      "REW Smoothed Empirical Differential Fairness (SEDF):\t0.2159\n"
     ]
    },
    {
     "data": {
      "text/plain": [
       "True"
      ]
     },
     "execution_count": 52,
     "metadata": {},
     "output_type": "execute_result"
    }
   ],
   "source": [
    "metrics_train_rw_ds = BinaryLabelDatasetMetric(train_rw_ds,\\\n",
    "unprivileged_groups=unprivileged_groups,\\\n",
    "privileged_groups=privileged_groups)\n",
    "print('Reweigher (REW) Statistical Parity Difference (SPD):\\t\\t\\t%.4f' %\\\n",
    "metrics_train_rw_ds.statistical_parity_difference())\n",
    "print('REW Disparate Impact (DI):\\t\\t\\t\\t\\t%.4f' %\\\n",
    "metrics_train_rw_ds.disparate_impact())\n",
    "print('REW Smoothed Empirical Differential Fairness (SEDF):\\t%.4f' %\\\n",
    "metrics_train_rw_ds.smoothed_empirical_differential_fairness())\n",
    "np.abs(train_ds.instance_weights.mean() - train_rw_ds.instance_weights.mean()) < 1e-6\n"
   ]
  },
  {
   "cell_type": "code",
   "execution_count": 53,
   "id": "1ff2fca5",
   "metadata": {},
   "outputs": [
    {
     "name": "stdout",
     "output_type": "stream",
     "text": [
      "Statistical Parity Difference (SPD):\t\t\t0.0394\n",
      "Disparate Impact (DI):\t\t\t\t\t1.0522\n",
      "Smoothed Empirical Differential Fairness (SEDF):\t0.3514\n"
     ]
    }
   ],
   "source": [
    "print('Statistical Parity Difference (SPD):\\t\\t\\t%.4f' %metrics_train_ds.statistical_parity_difference())\n",
    "print('Disparate Impact (DI):\\t\\t\\t\\t\\t%.4f' %metrics_train_ds.disparate_impact())\n",
    "print('Smoothed Empirical Differential Fairness (SEDF):\\t%.4f' %metrics_train_ds.smoothed_empirical_differential_fairness())"
   ]
  },
  {
   "cell_type": "code",
   "execution_count": 54,
   "id": "1dbb226c",
   "metadata": {},
   "outputs": [],
   "source": [
    "cb_mdl = CatBoostClassifier(iterations=500, learning_rate=0.5, depth=8)\n",
    "fitted_cb_mdl = cb_mdl.fit(X_train, y_train, verbose=False, sample_weight=train_rw_ds.instance_weights)\n",
    "\n",
    "y_test_cb_pred = fitted_cb_mdl .predict(X_test)\n",
    "\n",
    "cf_matrix = metrics.confusion_matrix(y_test,y_test_cb_pred)"
   ]
  },
  {
   "cell_type": "code",
   "execution_count": 55,
   "id": "a5c0f8ee",
   "metadata": {},
   "outputs": [
    {
     "name": "stdout",
     "output_type": "stream",
     "text": [
      "Accuracy: 0.8016\n"
     ]
    }
   ],
   "source": [
    "accuracy = metrics.accuracy_score(y_test, y_test_cb_pred)\n",
    "print(f'Accuracy: {accuracy:.4f}')"
   ]
  },
  {
   "cell_type": "markdown",
   "id": "a8ea23ea",
   "metadata": {},
   "source": [
    "# In-Processing bias reduction"
   ]
  },
  {
   "cell_type": "markdown",
   "id": "9c5f39db",
   "metadata": {},
   "source": [
    "# Gerry Fair"
   ]
  },
  {
   "cell_type": "code",
   "execution_count": 59,
   "id": "23365856",
   "metadata": {},
   "outputs": [
    {
     "name": "stdout",
     "output_type": "stream",
     "text": [
      "Requirement already satisfied: fairlearn in c:\\users\\irfan\\anaconda3\\lib\\site-packages (0.10.0)"
     ]
    },
    {
     "name": "stderr",
     "output_type": "stream",
     "text": [
      "ERROR: Could not install packages due to an OSError: [WinError 5] Access is denied: 'C:\\\\Users\\\\IRFAN\\\\anaconda3\\\\Lib\\\\site-packages\\\\~-mpy\\\\.libs\\\\libopenblas.FB5AE2TYXYH2IJRDKGDGQ3XBKLKTF43H.gfortran-win_amd64.dll'\n",
      "Consider using the `--user` option or check the permissions.\n",
      "\n"
     ]
    },
    {
     "name": "stdout",
     "output_type": "stream",
     "text": [
      "\n",
      "Collecting numpy>=1.24.4\n",
      "  Using cached numpy-1.26.3-cp310-cp310-win_amd64.whl (15.8 MB)\n",
      "Requirement already satisfied: scipy>=1.9.3 in c:\\users\\irfan\\anaconda3\\lib\\site-packages (from fairlearn) (1.10.0)\n",
      "Requirement already satisfied: pandas>=2.0.3 in c:\\users\\irfan\\anaconda3\\lib\\site-packages (from fairlearn) (2.2.0)\n",
      "Requirement already satisfied: scikit-learn>=1.2.1 in c:\\users\\irfan\\anaconda3\\lib\\site-packages (from fairlearn) (1.2.1)\n",
      "Requirement already satisfied: tzdata>=2022.7 in c:\\users\\irfan\\anaconda3\\lib\\site-packages (from pandas>=2.0.3->fairlearn) (2023.4)\n",
      "Requirement already satisfied: pytz>=2020.1 in c:\\users\\irfan\\anaconda3\\lib\\site-packages (from pandas>=2.0.3->fairlearn) (2022.7)\n",
      "Requirement already satisfied: python-dateutil>=2.8.2 in c:\\users\\irfan\\anaconda3\\lib\\site-packages (from pandas>=2.0.3->fairlearn) (2.8.2)\n",
      "Requirement already satisfied: joblib>=1.1.1 in c:\\users\\irfan\\anaconda3\\lib\\site-packages (from scikit-learn>=1.2.1->fairlearn) (1.1.1)\n",
      "Requirement already satisfied: threadpoolctl>=2.0.0 in c:\\users\\irfan\\anaconda3\\lib\\site-packages (from scikit-learn>=1.2.1->fairlearn) (2.2.0)\n",
      "Requirement already satisfied: six>=1.5 in c:\\users\\irfan\\anaconda3\\lib\\site-packages (from python-dateutil>=2.8.2->pandas>=2.0.3->fairlearn) (1.16.0)\n",
      "Installing collected packages: numpy\n",
      "  Attempting uninstall: numpy\n",
      "    Found existing installation: numpy 1.23.5\n",
      "    Uninstalling numpy-1.23.5:\n",
      "      Successfully uninstalled numpy-1.23.5\n"
     ]
    }
   ],
   "source": [
    "!pip install --upgrade fairlearn"
   ]
  },
  {
   "cell_type": "code",
   "execution_count": 61,
   "id": "ec81c22e",
   "metadata": {},
   "outputs": [
    {
     "name": "stdout",
     "output_type": "stream",
     "text": [
      "iteration: 1, error: 0.17863181465064204, fairness violation: 0.00248572931140393, violated group size: 0.1340309829548051\n",
      "iteration: 2, error: 0.17863181465064204, fairness violation: 0.00248572931140393, violated group size: 0.1340309829548051\n",
      "iteration: 3, error: 0.17863181465064204, fairness violation: 0.00248572931140393, violated group size: 0.1340309829548051\n",
      "iteration: 4, error: 0.17863181465064204, fairness violation: 0.00248572931140393, violated group size: 0.1340309829548051\n",
      "iteration: 5, error: 0.17863181465064204, fairness violation: 0.00248572931140393, violated group size: 0.1340309829548051\n"
     ]
    }
   ],
   "source": [
    "from aif360.algorithms.inprocessing.gerryfair_classifier import GerryFairClassifier\n",
    "from sklearn.tree import DecisionTreeRegressor\n",
    "\n",
    "dt_gf_mdl = GerryFairClassifier(C=100, gamma=.005, fairness_def='FN',max_iters=50, printflag=True,predictor=DecisionTreeRegressor(max_depth=3))\n",
    "dt_gf_mdl.fit(train_ds, early_termination=True)\n",
    "train_pred_gf_ds = dt_gf_mdl.predict(train_ds, threshold=False)\n",
    "test_pred_gf_ds = dt_gf_mdl.predict(test_ds, threshold=False)"
   ]
  },
  {
   "cell_type": "code",
   "execution_count": 62,
   "id": "a76b3840",
   "metadata": {},
   "outputs": [
    {
     "name": "stdout",
     "output_type": "stream",
     "text": [
      "Statistical Parity Difference (SPD):\t\t\t0.0394\n",
      "Disparate Impact (DI):\t\t\t\t\t1.0522\n",
      "Smoothed Empirical Differential Fairness (SEDF):\t0.3514\n"
     ]
    }
   ],
   "source": [
    "print('Statistical Parity Difference (SPD):\\t\\t\\t%.4f' %metrics_train_ds.statistical_parity_difference())\n",
    "print('Disparate Impact (DI):\\t\\t\\t\\t\\t%.4f' %metrics_train_ds.disparate_impact())\n",
    "print('Smoothed Empirical Differential Fairness (SEDF):\\t%.4f' %metrics_train_ds.smoothed_empirical_differential_fairness())"
   ]
  },
  {
   "cell_type": "code",
   "execution_count": 63,
   "id": "36545f0a",
   "metadata": {},
   "outputs": [
    {
     "name": "stdout",
     "output_type": "stream",
     "text": [
      "Statistical Parity Difference (SPD):\t\t\t0.0253\n",
      "Disparate Impact (DI):\t\t\t\t\t1.0295\n",
      "Smoothed Empirical Differential Fairness (SEDF):\t0.4288\n"
     ]
    }
   ],
   "source": [
    "Binary_train_pred_gf_ds = BinaryLabelDatasetMetric(train_pred_gf_ds,unprivileged_groups=unprivileged_groups,privileged_groups=privileged_groups)\n",
    "print('Statistical Parity Difference (SPD):\\t\\t\\t%.4f' %Binary_train_pred_gf_ds.statistical_parity_difference())\n",
    "print('Disparate Impact (DI):\\t\\t\\t\\t\\t%.4f' %Binary_train_pred_gf_ds.disparate_impact())\n",
    "print('Smoothed Empirical Differential Fairness (SEDF):\\t%.4f' %Binary_train_pred_gf_ds.smoothed_empirical_differential_fairness())"
   ]
  },
  {
   "cell_type": "markdown",
   "id": "1792a598",
   "metadata": {},
   "source": [
    "# Post processing"
   ]
  },
  {
   "cell_type": "markdown",
   "id": "83710c08",
   "metadata": {},
   "source": [
    "# Equalized Odds"
   ]
  },
  {
   "cell_type": "code",
   "execution_count": 65,
   "id": "56b24732",
   "metadata": {},
   "outputs": [],
   "source": [
    "from catboost import CatBoostClassifier\n",
    "cb_mdl = CatBoostClassifier(iterations=500, learning_rate=0.5, depth=8)\n",
    "fitted_cb_mdl = cb_mdl.fit(X_train, y_train, verbose=False)\n",
    "y_test_cb_pred = fitted_cb_mdl .predict(X_test)"
   ]
  },
  {
   "cell_type": "code",
   "execution_count": 66,
   "id": "94e27157",
   "metadata": {},
   "outputs": [],
   "source": [
    "test_ds = BinaryLabelDataset(df=X_test.join(y_test), label_names=['IS_DEFAULT'],protected_attribute_names=['AGE_GROUP', 'GENDER'], favorable_label=0, unfavorable_label=1)\n",
    "X_posw = X_test.copy()\n",
    "X_posw['IS_DEFAULT'] = y_test_cb_pred\n",
    "\n",
    "\n",
    "y_test_cb_pred = BinaryLabelDataset(df=X_posw,\\\n",
    "label_names=['IS_DEFAULT'],\\\n",
    "protected_attribute_names=['AGE_GROUP', 'GENDER'],\n",
    "favorable_label=0, unfavorable_label=1)"
   ]
  },
  {
   "cell_type": "code",
   "execution_count": 69,
   "id": "1b327130",
   "metadata": {},
   "outputs": [],
   "source": [
    "from aif360.algorithms.postprocessing.eq_odds_postprocessing import EqOddsPostprocessing\n",
    "\n",
    "epp = EqOddsPostprocessing(privileged_groups=privileged_groups,\\\n",
    "unprivileged_groups=unprivileged_groups,\\\n",
    "seed=rand)"
   ]
  },
  {
   "cell_type": "code",
   "execution_count": 70,
   "id": "04cf0a5f",
   "metadata": {},
   "outputs": [],
   "source": [
    "epp = epp.fit(test_ds, y_test_cb_pred)\n",
    "test_pred_epp_ds = epp.predict(y_test_cb_pred)"
   ]
  },
  {
   "cell_type": "code",
   "execution_count": 73,
   "id": "fb20c15c",
   "metadata": {},
   "outputs": [
    {
     "name": "stdout",
     "output_type": "stream",
     "text": [
      "EPP Statistical Parity Difference (SPD):\t\t\t0.0062\n",
      "EPP Disparate Impact (DI):\t\t\t\t\t1.0075\n",
      "EPP Smoothed Empirical Differential Fairness (SEDF):\t0.4710\n",
      "EPP Difference in mean outcomes TEST between unprivileged and privileged groups in percent 0.62\n"
     ]
    }
   ],
   "source": [
    "metrics_test_dir_ds = BinaryLabelDatasetMetric(test_pred_epp_ds,\\\n",
    "unprivileged_groups=unprivileged_groups,\\\n",
    "privileged_groups=privileged_groups)\n",
    "print('EPP Statistical Parity Difference (SPD):\\t\\t\\t%.4f' %\\\n",
    "metrics_test_dir_ds.statistical_parity_difference())\n",
    "print('EPP Disparate Impact (DI):\\t\\t\\t\\t\\t%.4f' %\\\n",
    "metrics_test_dir_ds.disparate_impact())\n",
    "print('EPP Smoothed Empirical Differential Fairness (SEDF):\\t%.4f' %\\\n",
    "metrics_test_dir_ds.smoothed_empirical_differential_fairness())\n",
    "print ('EPP Difference in mean outcomes TEST between unprivileged and privileged groups in percent' ,round(metrics_test_dir_ds.mean_difference()*100,2))"
   ]
  },
  {
   "cell_type": "code",
   "execution_count": null,
   "id": "504d53fe",
   "metadata": {},
   "outputs": [],
   "source": []
  }
 ],
 "metadata": {
  "kernelspec": {
   "display_name": "Python 3 (ipykernel)",
   "language": "python",
   "name": "python3"
  },
  "language_info": {
   "codemirror_mode": {
    "name": "ipython",
    "version": 3
   },
   "file_extension": ".py",
   "mimetype": "text/x-python",
   "name": "python",
   "nbconvert_exporter": "python",
   "pygments_lexer": "ipython3",
   "version": "3.10.9"
  }
 },
 "nbformat": 4,
 "nbformat_minor": 5
}
